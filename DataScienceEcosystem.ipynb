{
 "cells": [
  {
   "cell_type": "markdown",
   "id": "fd3476c8-db46-4463-abff-c7e4ce80eebe",
   "metadata": {},
   "source": [
    "# Data Science Tools and Ecosystem"
   ]
  },
  {
   "cell_type": "markdown",
   "id": "7a7354e4-323c-4ed7-b7fa-e91debe11c76",
   "metadata": {},
   "source": [
    "In this notebook, Data Science Tools and Ecosystem are summarized"
   ]
  },
  {
   "cell_type": "markdown",
   "id": "41f7554b-f91b-4bce-8d09-16d1125fbdcd",
   "metadata": {},
   "source": [
    "Objectives:"
   ]
  },
  {
   "cell_type": "markdown",
   "id": "99ec5001-c960-4195-9466-a6aeb112452a",
   "metadata": {},
   "source": [
    "- List popular languages for Data Science\n",
    "- Popular libraries\n",
    "- Arithmetic expression\n",
    "- Creating table\n",
    "- Converting minutes to hours"
   ]
  },
  {
   "cell_type": "markdown",
   "id": "22199cb2-02cd-45bd-b783-bc376a697e50",
   "metadata": {},
   "source": [
    "Some of the popular languages that Data Scientists use are:"
   ]
  },
  {
   "cell_type": "markdown",
   "id": "702575a3-edf9-4b7f-946b-8af2d13df231",
   "metadata": {},
   "source": [
    "1. Python\n",
    "2. R\n",
    "3. Java"
   ]
  },
  {
   "cell_type": "markdown",
   "id": "ac486ccb-54cc-491f-a9f5-7099c5a3a4af",
   "metadata": {},
   "source": [
    "Some of the commonly used libraries used by Data Scientists include:"
   ]
  },
  {
   "cell_type": "markdown",
   "id": "f506e33e-942c-4054-9366-26ccb53a25b8",
   "metadata": {},
   "source": [
    "1. Pandas\n",
    "2. Numpy\n",
    "3. Matplotlib"
   ]
  },
  {
   "cell_type": "markdown",
   "id": "9be47ce7-9bce-4204-9dd9-c0af0cddf045",
   "metadata": {},
   "source": [
    "| Data Science Tools |\n",
    "| ------------------ |\n",
    "| Apache Airflow |\n",
    "| Kube flow |\n",
    "| Apache SparkSQL |\n",
    "| ANSI SQL |"
   ]
  },
  {
   "cell_type": "markdown",
   "id": "73afcfc6-f5a0-420d-bb32-8ee3f47e41bc",
   "metadata": {},
   "source": [
    "Below are a few examples of evaluating arithmetic expressions in Python"
   ]
  },
  {
   "cell_type": "markdown",
   "id": "c3d7576c-c27d-4526-a4c4-90d582491dac",
   "metadata": {},
   "source": [
    "This a simple arithmetic expression to mutiply then add integers"
   ]
  },
  {
   "cell_type": "code",
   "execution_count": 3,
   "id": "d448e6dc-7b34-4f2b-a64d-82c909bd850e",
   "metadata": {},
   "outputs": [
    {
     "data": {
      "text/plain": [
       "17"
      ]
     },
     "execution_count": 3,
     "metadata": {},
     "output_type": "execute_result"
    }
   ],
   "source": [
    "(3*4)+5"
   ]
  },
  {
   "cell_type": "markdown",
   "id": "b801c3f3-d237-4a06-87dd-a74a2880373e",
   "metadata": {},
   "source": [
    "This will convert 200 minutes to hours by deviding 60"
   ]
  },
  {
   "cell_type": "code",
   "execution_count": 5,
   "id": "c78b46d6-4a13-4501-b738-41f709ed239b",
   "metadata": {},
   "outputs": [
    {
     "data": {
      "text/plain": [
       "3.3333333333333335"
      ]
     },
     "execution_count": 5,
     "metadata": {},
     "output_type": "execute_result"
    }
   ],
   "source": [
    "200/60"
   ]
  },
  {
   "cell_type": "markdown",
   "id": "bc66087e-3af2-499b-a88f-b4e560130f26",
   "metadata": {},
   "source": [
    "## Author\n",
    "Avishak"
   ]
  },
  {
   "cell_type": "code",
   "execution_count": null,
   "id": "26d95677-e0b1-4adf-84c7-17a8193f5088",
   "metadata": {},
   "outputs": [],
   "source": []
  }
 ],
 "metadata": {
  "kernelspec": {
   "display_name": "Python 3 (ipykernel)",
   "language": "python",
   "name": "python3"
  },
  "language_info": {
   "codemirror_mode": {
    "name": "ipython",
    "version": 3
   },
   "file_extension": ".py",
   "mimetype": "text/x-python",
   "name": "python",
   "nbconvert_exporter": "python",
   "pygments_lexer": "ipython3",
   "version": "3.12.8"
  }
 },
 "nbformat": 4,
 "nbformat_minor": 5
}
